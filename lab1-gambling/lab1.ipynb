{
 "cells": [
  {
   "cell_type": "markdown",
   "id": "4219d337",
   "metadata": {},
   "source": [
    "# Лабораторная работа №1"
   ]
  },
  {
   "cell_type": "markdown",
   "id": "fe43e6e8",
   "metadata": {},
   "source": [
    "Я выбрал для работы научные публикации связанные с темой **Gambling**"
   ]
  },
  {
   "cell_type": "markdown",
   "id": "e24372cc",
   "metadata": {},
   "source": [
    "## Выгрузка данных"
   ]
  },
  {
   "cell_type": "code",
   "execution_count": null,
   "id": "17b26128",
   "metadata": {},
   "outputs": [
    {
     "name": "stdout",
     "output_type": "stream",
     "text": [
      "Fetching data from 0 to 100\n",
      "Added 100 rows to gambling_data.json, total rows: 100\n",
      "Fetching data from 100 to 200\n",
      "Added 100 rows to gambling_data.json, total rows: 200\n",
      "Fetching data from 200 to 300\n",
      "Added 100 rows to gambling_data.json, total rows: 300\n",
      "Fetching data from 300 to 400\n",
      "Added 100 rows to gambling_data.json, total rows: 400\n",
      "Fetching data from 400 to 500\n",
      "Added 61 rows to gambling_data.json, total rows: 461\n",
      "Fetching data from 461 to 561\n"
     ]
    }
   ],
   "source": [
    "import requests\n",
    "import xml.etree.ElementTree as ET\n",
    "import json\n",
    "import os\n",
    "import time\n",
    "\n",
    "API = \"http://export.arxiv.org/api/query\"\n",
    "THEME = \"gambling\"\n",
    "OUTPUT_FILE = \"gambling_data.json\"\n",
    "MAX_DATA_SIZE = 500\n",
    "\n",
    "def get_gambling_data_xml(start=0, batch_size=100):\n",
    "    query = f\"search_query=all:{THEME}&start={start}&max_results={batch_size}\"\n",
    "    url = f\"{API}?{query}\"\n",
    "\n",
    "    response = requests.get(url)\n",
    "    response.raise_for_status()\n",
    "\n",
    "    root = ET.fromstring(response.content)\n",
    "\n",
    "    return root\n",
    "\n",
    "def read_xml(xml_root: ET.Element, output: list):\n",
    "    namespace = {\"atom\": \"http://www.w3.org/2005/Atom\"}\n",
    "    rows_added = 0\n",
    "    for entry in xml_root.findall('atom:entry', namespace):\n",
    "        authors = entry.findall('atom:author', namespace)\n",
    "        row = {\n",
    "            \"title\": entry.find('atom:title', namespace).text,\n",
    "            \"id\": entry.find('atom:id', namespace).text,\n",
    "            \"published\": entry.find('atom:published', namespace).text,\n",
    "            \"summary\": entry.find('atom:summary', namespace).text,\n",
    "            \"authors\": [author.find('atom:name', namespace).text for author in authors]\n",
    "        }\n",
    "        output.append(row)\n",
    "        rows_added += 1\n",
    "    return rows_added\n",
    "\n",
    "def fetch_gambling_data(output_file=OUTPUT_FILE):\n",
    "    batch_size = 100\n",
    "    total_rows = 0\n",
    "    data = []\n",
    "\n",
    "    while total_rows < MAX_DATA_SIZE:\n",
    "        print(f\"Fetching data from {total_rows} to {total_rows + batch_size}\")\n",
    "        xml_root = get_gambling_data_xml(total_rows, batch_size)\n",
    "        rows_added = read_xml(xml_root, data)\n",
    "        if rows_added == 0:\n",
    "            print(\"No more data found, exiting\")\n",
    "            break\n",
    "\n",
    "        total_rows += rows_added\n",
    "        print(f\"Added {rows_added} rows to {output_file}, total rows: {total_rows}\")\n",
    "        time.sleep(1)\n",
    "    \n",
    "    with open(output_file, 'w') as f:\n",
    "        json.dump(data, f, indent=4)\n",
    "\n",
    "fetch_gambling_data()"
   ]
  }
 ],
 "metadata": {
  "kernelspec": {
   "display_name": ".venv",
   "language": "python",
   "name": "python3"
  },
  "language_info": {
   "codemirror_mode": {
    "name": "ipython",
    "version": 3
   },
   "file_extension": ".py",
   "mimetype": "text/x-python",
   "name": "python",
   "nbconvert_exporter": "python",
   "pygments_lexer": "ipython3",
   "version": "3.13.3"
  }
 },
 "nbformat": 4,
 "nbformat_minor": 5
}
